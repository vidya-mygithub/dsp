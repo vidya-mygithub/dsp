{
 "cells": [
  {
   "cell_type": "code",
   "execution_count": 1,
   "metadata": {},
   "outputs": [
    {
     "name": "stdout",
     "output_type": "stream",
     "text": [
      "Python Version: 3.7.4 (default, Aug 13 2019, 15:17:50) \n",
      "[Clang 4.0.1 (tags/RELEASE_401/final)] \n",
      "\n"
     ]
    }
   ],
   "source": [
    "import sys\n",
    "print(\"Python Version:\", sys.version, '\\n')"
   ]
  },
  {
   "cell_type": "markdown",
   "metadata": {},
   "source": [
    "# Pickle: Saving Objects for Later"
   ]
  },
  {
   "cell_type": "markdown",
   "metadata": {},
   "source": [
    "Often in data science, we'll create some model or some version of our data and want to use it later. We have many options - we can save the coefficients, or save the data to csv, or...\n",
    "\n",
    "Actually, we don't have that many options. \n",
    "\n",
    "One way to overcome that is to save the python object to a file as a serialized object. That means we convert the entire object to a bunch of bytes, save those bytes into a file, and then have the ability to unpack those bytes back into their original format later. \n",
    "\n",
    "This is done by a module called `pickle`. Let's see it in action."
   ]
  },
  {
   "cell_type": "code",
   "execution_count": 2,
   "metadata": {},
   "outputs": [],
   "source": [
    "import pickle\n",
    "import random\n",
    "\n",
    "lots_of_noise = {\n",
    "    'CA': [random.randint(0,65) for _ in range(100)],\n",
    "    'IL': [random.randint(0,65) for _ in range(50)],\n",
    "    'NY': [random.randint(0,65) for _ in range(90)],\n",
    "    'WA': [random.randint(0,65) for _ in range(33)]\n",
    "}"
   ]
  },
  {
   "cell_type": "code",
   "execution_count": 3,
   "metadata": {},
   "outputs": [
    {
     "name": "stdout",
     "output_type": "stream",
     "text": [
      "{'CA': [36, 12, 14, 29, 60, 39, 44, 37, 25, 20, 35, 58, 46, 55, 22, 43, 20, 46, 50, 38, 30, 23, 6, 23, 60, 9, 33, 23, 54, 53, 54, 33, 62, 59, 12, 24, 47, 1, 32, 41, 52, 3, 25, 23, 55, 16, 47, 29, 41, 40, 37, 8, 26, 40, 36, 65, 32, 26, 45, 55, 14, 9, 47, 41, 11, 21, 65, 46, 57, 15, 0, 32, 27, 19, 61, 58, 3, 11, 18, 28, 41, 35, 65, 44, 29, 8, 8, 35, 52, 63, 18, 60, 34, 19, 17, 28, 44, 15, 60, 9], 'IL': [3, 17, 12, 10, 12, 21, 45, 35, 4, 15, 4, 49, 19, 52, 32, 18, 15, 33, 23, 42, 61, 34, 57, 58, 23, 52, 45, 64, 14, 22, 27, 37, 26, 46, 52, 48, 50, 19, 58, 65, 23, 58, 21, 9, 12, 31, 58, 33, 38, 53], 'NY': [57, 29, 11, 36, 59, 33, 11, 32, 52, 12, 36, 11, 52, 35, 10, 25, 36, 37, 61, 56, 8, 14, 13, 27, 8, 7, 28, 37, 32, 64, 38, 21, 40, 56, 15, 51, 14, 41, 30, 6, 20, 51, 11, 47, 11, 2, 55, 26, 39, 43, 12, 47, 65, 61, 25, 42, 34, 14, 29, 12, 57, 65, 28, 10, 44, 26, 58, 29, 14, 64, 14, 42, 35, 27, 4, 23, 18, 36, 16, 7, 51, 41, 29, 64, 43, 12, 65, 51, 63, 65], 'WA': [16, 13, 58, 40, 23, 7, 45, 29, 49, 36, 42, 27, 28, 34, 58, 52, 47, 65, 23, 30, 63, 0, 65, 25, 12, 46, 0, 51, 3, 8, 22, 47, 57]}\n"
     ]
    }
   ],
   "source": [
    "print(lots_of_noise)"
   ]
  },
  {
   "cell_type": "code",
   "execution_count": 15,
   "metadata": {},
   "outputs": [
    {
     "name": "stdout",
     "output_type": "stream",
     "text": [
      "Variable    Type              Data/Info\n",
      "---------------------------------------\n",
      "new_noise   dict              n=4\n",
      "pickle      module            <module 'pickle' from '/U<...>lib/python3.7/pickle.py'>\n",
      "random      module            <module 'random' from '/U<...>lib/python3.7/random.py'>\n",
      "read_file   BufferedReader    <_io.BufferedReader name='noise.pickle'>\n",
      "sys         module            <module 'sys' (built-in)>\n",
      "to_write    BufferedWriter    <_io.BufferedWriter name='noise.pickle'>\n"
     ]
    }
   ],
   "source": [
    "whos"
   ]
  },
  {
   "cell_type": "markdown",
   "metadata": {},
   "source": [
    "We can see in this `whos` command that the object `lots_of_noise` exists and is a `dict` with 4 keys. Nice. Now let's look at our file system and verify that there isn't a file called `noise.pickle`."
   ]
  },
  {
   "cell_type": "code",
   "execution_count": 5,
   "metadata": {},
   "outputs": [
    {
     "name": "stdout",
     "output_type": "stream",
     "text": [
      "advanced_python_datatypes.ipynb       my_dataframe.pickle\r\n",
      "complexity.md                         noise.pickle\r\n",
      "deep_and_shallow_copy.ipynb           pickle_saving_objects_for_later.ipynb\r\n",
      "\u001b[34mdeep_copy_demo\u001b[m\u001b[m                        readme.md\r\n"
     ]
    }
   ],
   "source": [
    "!ls"
   ]
  },
  {
   "cell_type": "markdown",
   "metadata": {},
   "source": [
    "Okay, now we're ready to create a file and write the bytes to it. To do this with `pickle`, we use python's read-write streamer `open` and create a writable-binary (`wb`) file. We'll then use `pickle.dump` to put an object into that file as a string of bytes."
   ]
  },
  {
   "cell_type": "code",
   "execution_count": 6,
   "metadata": {},
   "outputs": [],
   "source": [
    "with open('noise.pickle', 'wb') as to_write:\n",
    "    pickle.dump(lots_of_noise, to_write)"
   ]
  },
  {
   "cell_type": "code",
   "execution_count": 7,
   "metadata": {},
   "outputs": [
    {
     "name": "stdout",
     "output_type": "stream",
     "text": [
      "advanced_python_datatypes.ipynb       my_dataframe.pickle\r\n",
      "complexity.md                         noise.pickle\r\n",
      "deep_and_shallow_copy.ipynb           pickle_saving_objects_for_later.ipynb\r\n",
      "\u001b[34mdeep_copy_demo\u001b[m\u001b[m                        readme.md\r\n"
     ]
    }
   ],
   "source": [
    "!ls"
   ]
  },
  {
   "cell_type": "markdown",
   "metadata": {},
   "source": [
    "Now let's delete `lots_of_noise` and prove to ourselves it doesn't exist in Python's memory anymore."
   ]
  },
  {
   "cell_type": "code",
   "execution_count": 8,
   "metadata": {},
   "outputs": [],
   "source": [
    "del lots_of_noise"
   ]
  },
  {
   "cell_type": "code",
   "execution_count": 9,
   "metadata": {},
   "outputs": [
    {
     "name": "stdout",
     "output_type": "stream",
     "text": [
      "Variable   Type              Data/Info\n",
      "--------------------------------------\n",
      "pickle     module            <module 'pickle' from '/U<...>lib/python3.7/pickle.py'>\n",
      "random     module            <module 'random' from '/U<...>lib/python3.7/random.py'>\n",
      "sys        module            <module 'sys' (built-in)>\n",
      "to_write   BufferedWriter    <_io.BufferedWriter name='noise.pickle'>\n"
     ]
    }
   ],
   "source": [
    "whos"
   ]
  },
  {
   "cell_type": "code",
   "execution_count": 10,
   "metadata": {},
   "outputs": [
    {
     "ename": "NameError",
     "evalue": "name 'lots_of_noise' is not defined",
     "output_type": "error",
     "traceback": [
      "\u001b[0;31m---------------------------------------------------------------------------\u001b[0m",
      "\u001b[0;31mNameError\u001b[0m                                 Traceback (most recent call last)",
      "\u001b[0;32m<ipython-input-10-69f22b4d5ca8>\u001b[0m in \u001b[0;36m<module>\u001b[0;34m\u001b[0m\n\u001b[0;32m----> 1\u001b[0;31m \u001b[0mprint\u001b[0m\u001b[0;34m(\u001b[0m\u001b[0mlots_of_noise\u001b[0m\u001b[0;34m)\u001b[0m\u001b[0;34m\u001b[0m\u001b[0;34m\u001b[0m\u001b[0m\n\u001b[0m",
      "\u001b[0;31mNameError\u001b[0m: name 'lots_of_noise' is not defined"
     ]
    }
   ],
   "source": [
    "print(lots_of_noise)"
   ]
  },
  {
   "cell_type": "markdown",
   "metadata": {},
   "source": [
    "Lovely. It's dead forever. Or is it?\n",
    "\n",
    "Let's open that `noise.pickle` file with read-binary (`rb`) mode. Then we'll ask pickle to retrieve the file with `pickle.load` and store it back in a variable."
   ]
  },
  {
   "cell_type": "code",
   "execution_count": 11,
   "metadata": {},
   "outputs": [],
   "source": [
    "with open('noise.pickle','rb') as read_file:\n",
    "    new_noise = pickle.load(read_file)"
   ]
  },
  {
   "cell_type": "code",
   "execution_count": 12,
   "metadata": {},
   "outputs": [
    {
     "name": "stdout",
     "output_type": "stream",
     "text": [
      "{'CA': [36, 12, 14, 29, 60, 39, 44, 37, 25, 20, 35, 58, 46, 55, 22, 43, 20, 46, 50, 38, 30, 23, 6, 23, 60, 9, 33, 23, 54, 53, 54, 33, 62, 59, 12, 24, 47, 1, 32, 41, 52, 3, 25, 23, 55, 16, 47, 29, 41, 40, 37, 8, 26, 40, 36, 65, 32, 26, 45, 55, 14, 9, 47, 41, 11, 21, 65, 46, 57, 15, 0, 32, 27, 19, 61, 58, 3, 11, 18, 28, 41, 35, 65, 44, 29, 8, 8, 35, 52, 63, 18, 60, 34, 19, 17, 28, 44, 15, 60, 9], 'IL': [3, 17, 12, 10, 12, 21, 45, 35, 4, 15, 4, 49, 19, 52, 32, 18, 15, 33, 23, 42, 61, 34, 57, 58, 23, 52, 45, 64, 14, 22, 27, 37, 26, 46, 52, 48, 50, 19, 58, 65, 23, 58, 21, 9, 12, 31, 58, 33, 38, 53], 'NY': [57, 29, 11, 36, 59, 33, 11, 32, 52, 12, 36, 11, 52, 35, 10, 25, 36, 37, 61, 56, 8, 14, 13, 27, 8, 7, 28, 37, 32, 64, 38, 21, 40, 56, 15, 51, 14, 41, 30, 6, 20, 51, 11, 47, 11, 2, 55, 26, 39, 43, 12, 47, 65, 61, 25, 42, 34, 14, 29, 12, 57, 65, 28, 10, 44, 26, 58, 29, 14, 64, 14, 42, 35, 27, 4, 23, 18, 36, 16, 7, 51, 41, 29, 64, 43, 12, 65, 51, 63, 65], 'WA': [16, 13, 58, 40, 23, 7, 45, 29, 49, 36, 42, 27, 28, 34, 58, 52, 47, 65, 23, 30, 63, 0, 65, 25, 12, 46, 0, 51, 3, 8, 22, 47, 57]}\n"
     ]
    }
   ],
   "source": [
    "print(new_noise)"
   ]
  },
  {
   "cell_type": "code",
   "execution_count": 13,
   "metadata": {},
   "outputs": [
    {
     "name": "stdout",
     "output_type": "stream",
     "text": [
      "Variable    Type              Data/Info\n",
      "---------------------------------------\n",
      "new_noise   dict              n=4\n",
      "pickle      module            <module 'pickle' from '/U<...>lib/python3.7/pickle.py'>\n",
      "random      module            <module 'random' from '/U<...>lib/python3.7/random.py'>\n",
      "read_file   BufferedReader    <_io.BufferedReader name='noise.pickle'>\n",
      "sys         module            <module 'sys' (built-in)>\n",
      "to_write    BufferedWriter    <_io.BufferedWriter name='noise.pickle'>\n"
     ]
    }
   ],
   "source": [
    "whos"
   ]
  },
  {
   "cell_type": "markdown",
   "metadata": {},
   "source": [
    "Random noise lives! We retrieved the entire structure from file. Nice."
   ]
  },
  {
   "cell_type": "markdown",
   "metadata": {},
   "source": [
    "### Okay, but I don't use dictionaries... I use pandas."
   ]
  },
  {
   "cell_type": "code",
   "execution_count": null,
   "metadata": {},
   "outputs": [],
   "source": [
    "import pandas as pd\n",
    "import numpy as np\n",
    "\n",
    "df = pd.DataFrame(np.random.uniform(-10,10, size=(100,4)), columns=['Yay','specific','column','names'])\n",
    "df.head(5)"
   ]
  },
  {
   "cell_type": "code",
   "execution_count": null,
   "metadata": {},
   "outputs": [],
   "source": [
    "with open('my_dataframe.pickle', 'wb') as to_write:\n",
    "    pickle.dump(df, to_write)"
   ]
  },
  {
   "cell_type": "code",
   "execution_count": null,
   "metadata": {},
   "outputs": [],
   "source": [
    "del df\n",
    "\n",
    "df.head(5)"
   ]
  },
  {
   "cell_type": "code",
   "execution_count": null,
   "metadata": {},
   "outputs": [],
   "source": [
    "with open('my_dataframe.pickle','rb') as read_file:\n",
    "    new_df = pickle.load(read_file)\n",
    "    \n",
    "new_df.head(5)"
   ]
  },
  {
   "cell_type": "markdown",
   "metadata": {},
   "source": [
    "Pickle is a great tool. One recommended way of using it is to make it an end point of every step in your process. Example:\n",
    "\n",
    "* I got my data! Nice. Pickle it and stop your \"getting the data\" notebook.\n",
    "* Load your data from pickle. Clean it. Save your clean data to a new pickle.\n",
    "* Load your cleaned_data pickle. Do analysis and visualize it.\n",
    "\n",
    "This can provide natural \"pick-up-where-I-left-off-but-before-I-broke-my-data\" points. It's a great way to control the flow of your data.\n",
    "\n",
    "#### Resources\n",
    "\n",
    "https://docs.python.org/3.7/library/pickle.html"
   ]
  },
  {
   "cell_type": "code",
   "execution_count": null,
   "metadata": {},
   "outputs": [],
   "source": []
  }
 ],
 "metadata": {
  "kernelspec": {
   "display_name": "Python 3",
   "language": "python",
   "name": "python3"
  },
  "language_info": {
   "codemirror_mode": {
    "name": "ipython",
    "version": 3
   },
   "file_extension": ".py",
   "mimetype": "text/x-python",
   "name": "python",
   "nbconvert_exporter": "python",
   "pygments_lexer": "ipython3",
   "version": "3.7.4"
  }
 },
 "nbformat": 4,
 "nbformat_minor": 1
}
